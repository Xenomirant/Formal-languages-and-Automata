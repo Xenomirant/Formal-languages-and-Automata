{
 "cells": [
  {
   "cell_type": "code",
   "execution_count": 1,
   "id": "e34af5d1-f05a-4889-b77d-7d709c49c1a8",
   "metadata": {},
   "outputs": [],
   "source": [
    "import sys\n",
    "from antlr4 import *"
   ]
  },
  {
   "cell_type": "code",
   "execution_count": 2,
   "id": "15554950-605d-43a2-969f-39429b36fafc",
   "metadata": {},
   "outputs": [],
   "source": [
    "! ./antlr_gen RUSynth.g4"
   ]
  },
  {
   "cell_type": "code",
   "execution_count": 3,
   "id": "c4424f81-bc53-49bf-bd65-7de2a8a5533a",
   "metadata": {},
   "outputs": [],
   "source": [
    "from string import punctuation\n",
    "import pymorphy3\n",
    "import re\n",
    "\n",
    "morph = pymorphy3.MorphAnalyzer()\n",
    "\n",
    "def add_pos(string: str):\n",
    "\n",
    "    splitted = string.split()\n",
    "\n",
    "    words = [word.strip(punctuation) for word in splitted]\n",
    "\n",
    "    words = [word + \"_\" + morph.parse(word)[0].tag.POS for word in words]\n",
    "    \n",
    "    # words = [word + \"_\" + pos_tags[morph.parse(word)[0].tag.POS] if morph.parse(word)[0].tag.POS in pos_tags else word + \"_UNK\" for word in words]\n",
    "\n",
    "    return \" \" + \" \".join(words)"
   ]
  },
  {
   "cell_type": "code",
   "execution_count": 4,
   "id": "a9ff3f19-6994-45a4-9e48-2192964a5090",
   "metadata": {},
   "outputs": [],
   "source": [
    "if 'antlr_grammars.outputs.RUSynthLexter' in sys.modules:  \n",
    "    del sys.modules['antlr_grammars.outputs.RUSynthLexer']\n",
    "    del sys.modules['antlr_grammars.outputs.RUSynthParser']\n",
    "    del sys.modules['antlr_grammars.outputs.RUSynthListener']\n",
    "from antlr_grammars.outputs.RUSynthLexer import RUSynthLexer\n",
    "from antlr_grammars.outputs.RUSynthParser import RUSynthParser\n",
    "from antlr_grammars.outputs.RUSynthListener import RUSynthListener"
   ]
  },
  {
   "cell_type": "code",
   "execution_count": 5,
   "id": "72921f56-d7cd-43f9-8a64-69959626506c",
   "metadata": {},
   "outputs": [],
   "source": [
    "#phrase = add_pos(\"мне некуда идти\")\n",
    "\n",
    "phrase = add_pos(\"петя и вася который живет в доме не идут ко мне\")\n",
    "\n",
    "#phrase = add_pos(\"куда катится этот мир\")"
   ]
  },
  {
   "cell_type": "code",
   "execution_count": 6,
   "id": "1bf6219b-436e-4a05-9c06-b0f3c7787ef2",
   "metadata": {},
   "outputs": [
    {
     "data": {
      "text/plain": [
       "' петя_NOUN и_CONJ вася_NOUN живущие_PRTF в_PREP доме_NOUN не_PRCL идут_VERB ко_PREP мне_NPRO'"
      ]
     },
     "execution_count": 6,
     "metadata": {},
     "output_type": "execute_result"
    }
   ],
   "source": [
    "add_pos(\"петя и вася живущие в доме не идут ко мне\")"
   ]
  },
  {
   "cell_type": "code",
   "execution_count": 7,
   "id": "fafa6ad3-f0fd-4777-9ab5-be222222258e",
   "metadata": {},
   "outputs": [
    {
     "data": {
      "text/plain": [
       "' зайдя_GRND в_PREP дом_NOUN петя_NOUN ощутил_VERB себя_NPRO некомфортно_ADVB'"
      ]
     },
     "execution_count": 7,
     "metadata": {},
     "output_type": "execute_result"
    }
   ],
   "source": [
    "add_pos(\"зайдя в дом петя ощутил себя некомфортно\")"
   ]
  },
  {
   "cell_type": "code",
   "execution_count": 14,
   "id": "59206063-385d-4bba-8364-74719bc91192",
   "metadata": {},
   "outputs": [
    {
     "data": {
      "text/plain": [
       "' маша_NOUN бродила_VERB по_PREP лесу_NOUN а_CONJ петя_NOUN слонялся_VERB из_PREP угла_NOUN в_PREP угол_NOUN'"
      ]
     },
     "execution_count": 14,
     "metadata": {},
     "output_type": "execute_result"
    }
   ],
   "source": [
    "add_pos(\"маша бродила по лесу, а петя  слонялся из угла в угол\")"
   ]
  },
  {
   "cell_type": "code",
   "execution_count": 9,
   "id": "355177e7-c35a-43a8-b0d3-77af88547e54",
   "metadata": {
    "scrolled": true
   },
   "outputs": [
    {
     "data": {
      "text/plain": [
       "' петя_NOUN и_CONJ вася_NOUN который_ADJF живет_VERB в_PREP доме_NOUN не_PRCL идут_VERB ко_PREP мне_NPRO'"
      ]
     },
     "execution_count": 9,
     "metadata": {},
     "output_type": "execute_result"
    }
   ],
   "source": [
    "phrase"
   ]
  },
  {
   "cell_type": "code",
   "execution_count": 10,
   "id": "61bccb29-4564-4b3d-b055-2d5a5e94acdf",
   "metadata": {},
   "outputs": [
    {
     "name": "stdout",
     "output_type": "stream",
     "text": [
      "Subj found - ('петя', OpencorporaTag('NOUN,anim,masc,Name sing,nomn'))\n",
      "Verb found - ('идут', OpencorporaTag('VERB,impf,intr plur,3per,pres,indc'))\n",
      "Disagreement found\n"
     ]
    }
   ],
   "source": [
    "infile = InputStream(add_pos('петя и вася живущие в доме не идут ко мне'))\n",
    "infile.consume()\n",
    "lexer = RUSynthLexer(infile)\n",
    "stream = CommonTokenStream(lexer)\n",
    "parser = RUSynthParser(stream)\n",
    "tree = parser.sentence()"
   ]
  },
  {
   "cell_type": "code",
   "execution_count": 11,
   "id": "59adf6e0-e427-45b6-91cf-8468bb28468c",
   "metadata": {},
   "outputs": [
    {
     "name": "stdout",
     "output_type": "stream",
     "text": [
      "Subj found - ('петя', OpencorporaTag('NOUN,anim,masc,Name sing,nomn'))\n",
      "Verb found - ('был', OpencorporaTag('VERB,impf,intr masc,sing,past,indc'))\n",
      "Agreement admitted\n"
     ]
    }
   ],
   "source": [
    "infile = InputStream(add_pos(\"в доме был петя\"))\n",
    "infile.consume()\n",
    "lexer = RUSynthLexer(infile)\n",
    "stream = CommonTokenStream(lexer)\n",
    "parser = RUSynthParser(stream)\n",
    "tree = parser.sentence()"
   ]
  },
  {
   "cell_type": "code",
   "execution_count": 12,
   "id": "c63af096-1242-4438-be5a-3291392a7a51",
   "metadata": {},
   "outputs": [
    {
     "name": "stdout",
     "output_type": "stream",
     "text": [
      "Subj found - ('петя', OpencorporaTag('NOUN,anim,masc,Name sing,nomn'))\n",
      "Verb found - ('ощутил', OpencorporaTag('VERB,perf,tran masc,sing,past,indc'))\n",
      "Agreement admitted\n"
     ]
    }
   ],
   "source": [
    "infile = InputStream(add_pos(\"подойдя к воротам петя ощутил себя некомфортно\"))\n",
    "infile.consume()\n",
    "lexer = RUSynthLexer(infile)\n",
    "stream = CommonTokenStream(lexer)\n",
    "parser = RUSynthParser(stream)\n",
    "tree = parser.sentence()"
   ]
  },
  {
   "cell_type": "code",
   "execution_count": 15,
   "id": "e7a333fc-5b46-4eb0-a788-dd1f61439c87",
   "metadata": {},
   "outputs": [
    {
     "name": "stdout",
     "output_type": "stream",
     "text": [
      "Subj found - ('маша', OpencorporaTag('NOUN,anim,femn,Name sing,nomn'))\n",
      "Verb found - ('бродила', OpencorporaTag('VERB,impf,intr femn,sing,past,indc'))\n",
      "Agreement admitted\n",
      "Subj found - ('петя', OpencorporaTag('NOUN,anim,masc,Name sing,nomn'))\n",
      "Verb found - ('слонялся', OpencorporaTag('VERB,impf,intr masc,sing,past,indc'))\n",
      "Agreement admitted\n"
     ]
    }
   ],
   "source": [
    "infile = InputStream(add_pos(\"маша бродила по лесу, а петя слонялся из угла в угол\"))\n",
    "infile.consume()\n",
    "lexer = RUSynthLexer(infile)\n",
    "stream = CommonTokenStream(lexer)\n",
    "parser = RUSynthParser(stream)\n",
    "tree = parser.sentence()"
   ]
  },
  {
   "cell_type": "code",
   "execution_count": null,
   "id": "ca680313-872e-48c8-b89d-f535836f4b03",
   "metadata": {},
   "outputs": [],
   "source": []
  }
 ],
 "metadata": {
  "kernelspec": {
   "display_name": "Python 3 (ipykernel)",
   "language": "python",
   "name": "python3"
  },
  "language_info": {
   "codemirror_mode": {
    "name": "ipython",
    "version": 3
   },
   "file_extension": ".py",
   "mimetype": "text/x-python",
   "name": "python",
   "nbconvert_exporter": "python",
   "pygments_lexer": "ipython3",
   "version": "3.11.8"
  }
 },
 "nbformat": 4,
 "nbformat_minor": 5
}
